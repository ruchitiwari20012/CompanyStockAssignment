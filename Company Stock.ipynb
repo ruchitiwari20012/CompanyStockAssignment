{
 "cells": [
  {
   "cell_type": "code",
   "execution_count": 41,
   "metadata": {},
   "outputs": [],
   "source": [
    "import numpy as np\n",
    "import pandas as pd\n",
    "import matplotlib.pyplot as plt\n",
    "%matplotlib inline"
   ]
  },
  {
   "cell_type": "code",
   "execution_count": 42,
   "metadata": {},
   "outputs": [],
   "source": [
    "df=pd.read_csv('Company Stock and Investment.csv')"
   ]
  },
  {
   "cell_type": "code",
   "execution_count": 43,
   "metadata": {},
   "outputs": [
    {
     "data": {
      "text/html": [
       "<div>\n",
       "<style scoped>\n",
       "    .dataframe tbody tr th:only-of-type {\n",
       "        vertical-align: middle;\n",
       "    }\n",
       "\n",
       "    .dataframe tbody tr th {\n",
       "        vertical-align: top;\n",
       "    }\n",
       "\n",
       "    .dataframe thead th {\n",
       "        text-align: right;\n",
       "    }\n",
       "</style>\n",
       "<table border=\"1\" class=\"dataframe\">\n",
       "  <thead>\n",
       "    <tr style=\"text-align: right;\">\n",
       "      <th></th>\n",
       "      <th>Date</th>\n",
       "      <th>Oil Investments</th>\n",
       "      <th>Gold Investments</th>\n",
       "      <th>Comp Stock</th>\n",
       "      <th>Other sharesInvestments</th>\n",
       "    </tr>\n",
       "  </thead>\n",
       "  <tbody>\n",
       "    <tr>\n",
       "      <th>0</th>\n",
       "      <td>31-12-2009</td>\n",
       "      <td>0.025417</td>\n",
       "      <td>0.000150</td>\n",
       "      <td>0.017354</td>\n",
       "      <td>0.006848</td>\n",
       "    </tr>\n",
       "    <tr>\n",
       "      <th>1</th>\n",
       "      <td>04-01-2010</td>\n",
       "      <td>0.026830</td>\n",
       "      <td>0.001097</td>\n",
       "      <td>0.015565</td>\n",
       "      <td>-0.004609</td>\n",
       "    </tr>\n",
       "    <tr>\n",
       "      <th>2</th>\n",
       "      <td>05-01-2010</td>\n",
       "      <td>0.002699</td>\n",
       "      <td>0.001560</td>\n",
       "      <td>0.001729</td>\n",
       "      <td>0.005900</td>\n",
       "    </tr>\n",
       "    <tr>\n",
       "      <th>3</th>\n",
       "      <td>06-01-2010</td>\n",
       "      <td>0.021688</td>\n",
       "      <td>0.006009</td>\n",
       "      <td>-0.015906</td>\n",
       "      <td>-0.018116</td>\n",
       "    </tr>\n",
       "    <tr>\n",
       "      <th>4</th>\n",
       "      <td>07-01-2010</td>\n",
       "      <td>-0.006256</td>\n",
       "      <td>0.000221</td>\n",
       "      <td>-0.001849</td>\n",
       "      <td>-0.017013</td>\n",
       "    </tr>\n",
       "  </tbody>\n",
       "</table>\n",
       "</div>"
      ],
      "text/plain": [
       "         Date  Oil Investments  Gold Investments  Comp Stock  \\\n",
       "0  31-12-2009         0.025417          0.000150    0.017354   \n",
       "1  04-01-2010         0.026830          0.001097    0.015565   \n",
       "2  05-01-2010         0.002699          0.001560    0.001729   \n",
       "3  06-01-2010         0.021688          0.006009   -0.015906   \n",
       "4  07-01-2010        -0.006256          0.000221   -0.001849   \n",
       "\n",
       "   Other sharesInvestments  \n",
       "0                 0.006848  \n",
       "1                -0.004609  \n",
       "2                 0.005900  \n",
       "3                -0.018116  \n",
       "4                -0.017013  "
      ]
     },
     "execution_count": 43,
     "metadata": {},
     "output_type": "execute_result"
    }
   ],
   "source": [
    "df.head()"
   ]
  },
  {
   "cell_type": "code",
   "execution_count": 44,
   "metadata": {},
   "outputs": [
    {
     "data": {
      "text/html": [
       "<div>\n",
       "<style scoped>\n",
       "    .dataframe tbody tr th:only-of-type {\n",
       "        vertical-align: middle;\n",
       "    }\n",
       "\n",
       "    .dataframe tbody tr th {\n",
       "        vertical-align: top;\n",
       "    }\n",
       "\n",
       "    .dataframe thead th {\n",
       "        text-align: right;\n",
       "    }\n",
       "</style>\n",
       "<table border=\"1\" class=\"dataframe\">\n",
       "  <thead>\n",
       "    <tr style=\"text-align: right;\">\n",
       "      <th></th>\n",
       "      <th>Date</th>\n",
       "      <th>Oil Investments</th>\n",
       "      <th>Gold Investments</th>\n",
       "      <th>Comp Stock</th>\n",
       "      <th>Other sharesInvestments</th>\n",
       "    </tr>\n",
       "  </thead>\n",
       "  <tbody>\n",
       "    <tr>\n",
       "      <th>1979</th>\n",
       "      <td>09-11-2017</td>\n",
       "      <td>0.005984</td>\n",
       "      <td>0.000623</td>\n",
       "      <td>-0.002043</td>\n",
       "      <td>-0.003310</td>\n",
       "    </tr>\n",
       "    <tr>\n",
       "      <th>1980</th>\n",
       "      <td>10-11-2017</td>\n",
       "      <td>-0.007173</td>\n",
       "      <td>-0.000389</td>\n",
       "      <td>-0.006880</td>\n",
       "      <td>-0.003348</td>\n",
       "    </tr>\n",
       "    <tr>\n",
       "      <th>1981</th>\n",
       "      <td>13-11-2017</td>\n",
       "      <td>0.000352</td>\n",
       "      <td>-0.004944</td>\n",
       "      <td>-0.004008</td>\n",
       "      <td>0.003395</td>\n",
       "    </tr>\n",
       "    <tr>\n",
       "      <th>1982</th>\n",
       "      <td>14-11-2017</td>\n",
       "      <td>-0.019376</td>\n",
       "      <td>-0.002621</td>\n",
       "      <td>-0.015118</td>\n",
       "      <td>0.006793</td>\n",
       "    </tr>\n",
       "    <tr>\n",
       "      <th>1983</th>\n",
       "      <td>15-11-2017</td>\n",
       "      <td>-0.007006</td>\n",
       "      <td>0.005963</td>\n",
       "      <td>-0.013190</td>\n",
       "      <td>-0.008928</td>\n",
       "    </tr>\n",
       "  </tbody>\n",
       "</table>\n",
       "</div>"
      ],
      "text/plain": [
       "            Date  Oil Investments  Gold Investments  Comp Stock  \\\n",
       "1979  09-11-2017         0.005984          0.000623   -0.002043   \n",
       "1980  10-11-2017        -0.007173         -0.000389   -0.006880   \n",
       "1981  13-11-2017         0.000352         -0.004944   -0.004008   \n",
       "1982  14-11-2017        -0.019376         -0.002621   -0.015118   \n",
       "1983  15-11-2017        -0.007006          0.005963   -0.013190   \n",
       "\n",
       "      Other sharesInvestments  \n",
       "1979                -0.003310  \n",
       "1980                -0.003348  \n",
       "1981                 0.003395  \n",
       "1982                 0.006793  \n",
       "1983                -0.008928  "
      ]
     },
     "execution_count": 44,
     "metadata": {},
     "output_type": "execute_result"
    }
   ],
   "source": [
    "df.tail()"
   ]
  },
  {
   "cell_type": "code",
   "execution_count": 45,
   "metadata": {},
   "outputs": [],
   "source": [
    "# Convert Month into Datetime\n",
    "df['Date']=pd.to_datetime(df['Date'])"
   ]
  },
  {
   "cell_type": "code",
   "execution_count": 46,
   "metadata": {},
   "outputs": [
    {
     "data": {
      "text/html": [
       "<div>\n",
       "<style scoped>\n",
       "    .dataframe tbody tr th:only-of-type {\n",
       "        vertical-align: middle;\n",
       "    }\n",
       "\n",
       "    .dataframe tbody tr th {\n",
       "        vertical-align: top;\n",
       "    }\n",
       "\n",
       "    .dataframe thead th {\n",
       "        text-align: right;\n",
       "    }\n",
       "</style>\n",
       "<table border=\"1\" class=\"dataframe\">\n",
       "  <thead>\n",
       "    <tr style=\"text-align: right;\">\n",
       "      <th></th>\n",
       "      <th>Date</th>\n",
       "      <th>Oil Investments</th>\n",
       "      <th>Gold Investments</th>\n",
       "      <th>Comp Stock</th>\n",
       "      <th>Other sharesInvestments</th>\n",
       "    </tr>\n",
       "  </thead>\n",
       "  <tbody>\n",
       "    <tr>\n",
       "      <th>0</th>\n",
       "      <td>2009-12-31</td>\n",
       "      <td>0.025417</td>\n",
       "      <td>0.000150</td>\n",
       "      <td>0.017354</td>\n",
       "      <td>0.006848</td>\n",
       "    </tr>\n",
       "    <tr>\n",
       "      <th>1</th>\n",
       "      <td>2010-04-01</td>\n",
       "      <td>0.026830</td>\n",
       "      <td>0.001097</td>\n",
       "      <td>0.015565</td>\n",
       "      <td>-0.004609</td>\n",
       "    </tr>\n",
       "    <tr>\n",
       "      <th>2</th>\n",
       "      <td>2010-05-01</td>\n",
       "      <td>0.002699</td>\n",
       "      <td>0.001560</td>\n",
       "      <td>0.001729</td>\n",
       "      <td>0.005900</td>\n",
       "    </tr>\n",
       "    <tr>\n",
       "      <th>3</th>\n",
       "      <td>2010-06-01</td>\n",
       "      <td>0.021688</td>\n",
       "      <td>0.006009</td>\n",
       "      <td>-0.015906</td>\n",
       "      <td>-0.018116</td>\n",
       "    </tr>\n",
       "    <tr>\n",
       "      <th>4</th>\n",
       "      <td>2010-07-01</td>\n",
       "      <td>-0.006256</td>\n",
       "      <td>0.000221</td>\n",
       "      <td>-0.001849</td>\n",
       "      <td>-0.017013</td>\n",
       "    </tr>\n",
       "  </tbody>\n",
       "</table>\n",
       "</div>"
      ],
      "text/plain": [
       "        Date  Oil Investments  Gold Investments  Comp Stock  \\\n",
       "0 2009-12-31         0.025417          0.000150    0.017354   \n",
       "1 2010-04-01         0.026830          0.001097    0.015565   \n",
       "2 2010-05-01         0.002699          0.001560    0.001729   \n",
       "3 2010-06-01         0.021688          0.006009   -0.015906   \n",
       "4 2010-07-01        -0.006256          0.000221   -0.001849   \n",
       "\n",
       "   Other sharesInvestments  \n",
       "0                 0.006848  \n",
       "1                -0.004609  \n",
       "2                 0.005900  \n",
       "3                -0.018116  \n",
       "4                -0.017013  "
      ]
     },
     "execution_count": 46,
     "metadata": {},
     "output_type": "execute_result"
    }
   ],
   "source": [
    "df.head()"
   ]
  },
  {
   "cell_type": "code",
   "execution_count": 47,
   "metadata": {},
   "outputs": [],
   "source": [
    "df.set_index('Date',inplace=True)"
   ]
  },
  {
   "cell_type": "code",
   "execution_count": 48,
   "metadata": {},
   "outputs": [
    {
     "data": {
      "text/html": [
       "<div>\n",
       "<style scoped>\n",
       "    .dataframe tbody tr th:only-of-type {\n",
       "        vertical-align: middle;\n",
       "    }\n",
       "\n",
       "    .dataframe tbody tr th {\n",
       "        vertical-align: top;\n",
       "    }\n",
       "\n",
       "    .dataframe thead th {\n",
       "        text-align: right;\n",
       "    }\n",
       "</style>\n",
       "<table border=\"1\" class=\"dataframe\">\n",
       "  <thead>\n",
       "    <tr style=\"text-align: right;\">\n",
       "      <th></th>\n",
       "      <th>Oil Investments</th>\n",
       "      <th>Gold Investments</th>\n",
       "      <th>Comp Stock</th>\n",
       "      <th>Other sharesInvestments</th>\n",
       "    </tr>\n",
       "    <tr>\n",
       "      <th>Date</th>\n",
       "      <th></th>\n",
       "      <th></th>\n",
       "      <th></th>\n",
       "      <th></th>\n",
       "    </tr>\n",
       "  </thead>\n",
       "  <tbody>\n",
       "    <tr>\n",
       "      <th>2009-12-31</th>\n",
       "      <td>0.025417</td>\n",
       "      <td>0.000150</td>\n",
       "      <td>0.017354</td>\n",
       "      <td>0.006848</td>\n",
       "    </tr>\n",
       "    <tr>\n",
       "      <th>2010-04-01</th>\n",
       "      <td>0.026830</td>\n",
       "      <td>0.001097</td>\n",
       "      <td>0.015565</td>\n",
       "      <td>-0.004609</td>\n",
       "    </tr>\n",
       "    <tr>\n",
       "      <th>2010-05-01</th>\n",
       "      <td>0.002699</td>\n",
       "      <td>0.001560</td>\n",
       "      <td>0.001729</td>\n",
       "      <td>0.005900</td>\n",
       "    </tr>\n",
       "    <tr>\n",
       "      <th>2010-06-01</th>\n",
       "      <td>0.021688</td>\n",
       "      <td>0.006009</td>\n",
       "      <td>-0.015906</td>\n",
       "      <td>-0.018116</td>\n",
       "    </tr>\n",
       "    <tr>\n",
       "      <th>2010-07-01</th>\n",
       "      <td>-0.006256</td>\n",
       "      <td>0.000221</td>\n",
       "      <td>-0.001849</td>\n",
       "      <td>-0.017013</td>\n",
       "    </tr>\n",
       "  </tbody>\n",
       "</table>\n",
       "</div>"
      ],
      "text/plain": [
       "            Oil Investments  Gold Investments  Comp Stock  \\\n",
       "Date                                                        \n",
       "2009-12-31         0.025417          0.000150    0.017354   \n",
       "2010-04-01         0.026830          0.001097    0.015565   \n",
       "2010-05-01         0.002699          0.001560    0.001729   \n",
       "2010-06-01         0.021688          0.006009   -0.015906   \n",
       "2010-07-01        -0.006256          0.000221   -0.001849   \n",
       "\n",
       "            Other sharesInvestments  \n",
       "Date                                 \n",
       "2009-12-31                 0.006848  \n",
       "2010-04-01                -0.004609  \n",
       "2010-05-01                 0.005900  \n",
       "2010-06-01                -0.018116  \n",
       "2010-07-01                -0.017013  "
      ]
     },
     "execution_count": 48,
     "metadata": {},
     "output_type": "execute_result"
    }
   ],
   "source": [
    "df.head()"
   ]
  },
  {
   "cell_type": "code",
   "execution_count": 49,
   "metadata": {},
   "outputs": [
    {
     "data": {
      "text/html": [
       "<div>\n",
       "<style scoped>\n",
       "    .dataframe tbody tr th:only-of-type {\n",
       "        vertical-align: middle;\n",
       "    }\n",
       "\n",
       "    .dataframe tbody tr th {\n",
       "        vertical-align: top;\n",
       "    }\n",
       "\n",
       "    .dataframe thead th {\n",
       "        text-align: right;\n",
       "    }\n",
       "</style>\n",
       "<table border=\"1\" class=\"dataframe\">\n",
       "  <thead>\n",
       "    <tr style=\"text-align: right;\">\n",
       "      <th></th>\n",
       "      <th>Oil Investments</th>\n",
       "      <th>Gold Investments</th>\n",
       "      <th>Comp Stock</th>\n",
       "      <th>Other sharesInvestments</th>\n",
       "    </tr>\n",
       "  </thead>\n",
       "  <tbody>\n",
       "    <tr>\n",
       "      <th>count</th>\n",
       "      <td>1984.000000</td>\n",
       "      <td>1984.000000</td>\n",
       "      <td>1984.000000</td>\n",
       "      <td>1984.000000</td>\n",
       "    </tr>\n",
       "    <tr>\n",
       "      <th>mean</th>\n",
       "      <td>-0.000435</td>\n",
       "      <td>-0.020152</td>\n",
       "      <td>0.001007</td>\n",
       "      <td>0.001269</td>\n",
       "    </tr>\n",
       "    <tr>\n",
       "      <th>std</th>\n",
       "      <td>0.030869</td>\n",
       "      <td>0.140965</td>\n",
       "      <td>0.016017</td>\n",
       "      <td>0.019733</td>\n",
       "    </tr>\n",
       "    <tr>\n",
       "      <th>min</th>\n",
       "      <td>-1.000000</td>\n",
       "      <td>-1.000000</td>\n",
       "      <td>-0.123558</td>\n",
       "      <td>-0.126568</td>\n",
       "    </tr>\n",
       "    <tr>\n",
       "      <th>25%</th>\n",
       "      <td>-0.011021</td>\n",
       "      <td>-0.005881</td>\n",
       "      <td>-0.006926</td>\n",
       "      <td>-0.008492</td>\n",
       "    </tr>\n",
       "    <tr>\n",
       "      <th>50%</th>\n",
       "      <td>0.000277</td>\n",
       "      <td>0.000000</td>\n",
       "      <td>0.000876</td>\n",
       "      <td>0.000840</td>\n",
       "    </tr>\n",
       "    <tr>\n",
       "      <th>75%</th>\n",
       "      <td>0.010734</td>\n",
       "      <td>0.005454</td>\n",
       "      <td>0.009708</td>\n",
       "      <td>0.011632</td>\n",
       "    </tr>\n",
       "    <tr>\n",
       "      <th>max</th>\n",
       "      <td>0.119511</td>\n",
       "      <td>0.049577</td>\n",
       "      <td>0.088741</td>\n",
       "      <td>0.157457</td>\n",
       "    </tr>\n",
       "  </tbody>\n",
       "</table>\n",
       "</div>"
      ],
      "text/plain": [
       "       Oil Investments  Gold Investments   Comp Stock  Other sharesInvestments\n",
       "count      1984.000000       1984.000000  1984.000000              1984.000000\n",
       "mean         -0.000435         -0.020152     0.001007                 0.001269\n",
       "std           0.030869          0.140965     0.016017                 0.019733\n",
       "min          -1.000000         -1.000000    -0.123558                -0.126568\n",
       "25%          -0.011021         -0.005881    -0.006926                -0.008492\n",
       "50%           0.000277          0.000000     0.000876                 0.000840\n",
       "75%           0.010734          0.005454     0.009708                 0.011632\n",
       "max           0.119511          0.049577     0.088741                 0.157457"
      ]
     },
     "execution_count": 49,
     "metadata": {},
     "output_type": "execute_result"
    }
   ],
   "source": [
    "\n",
    "df.describe()"
   ]
  },
  {
   "cell_type": "code",
   "execution_count": 50,
   "metadata": {},
   "outputs": [
    {
     "data": {
      "text/plain": [
       "Index(['Oil Investments', 'Gold Investments', 'Comp Stock',\n",
       "       'Other sharesInvestments'],\n",
       "      dtype='object')"
      ]
     },
     "execution_count": 50,
     "metadata": {},
     "output_type": "execute_result"
    }
   ],
   "source": [
    "df.columns "
   ]
  },
  {
   "cell_type": "code",
   "execution_count": 51,
   "metadata": {},
   "outputs": [],
   "source": [
    "#Now we will check if data is stationary or not.\n",
    "### Testing For Stationarity\n",
    "\n",
    "from statsmodels.tsa.stattools import adfuller"
   ]
  },
  {
   "cell_type": "code",
   "execution_count": 57,
   "metadata": {},
   "outputs": [],
   "source": [
    "test_result=adfuller(df['Comp Stock']) # adfuller give us 5 values"
   ]
  },
  {
   "cell_type": "code",
   "execution_count": 58,
   "metadata": {},
   "outputs": [
    {
     "name": "stdout",
     "output_type": "stream",
     "text": [
      " The Values given as output by adfuller is : \n",
      " 'ADF Test Statistic','p-value','#Lags Used','Number of Observations Used'\n",
      "\n",
      " (-12.473386265908326, 3.207774293088594e-23, 12, 1971, {'1%': -3.4336720887549483, '5%': -2.863007508094813, '10%': -2.567551240570721}, -10649.854659769328)\n"
     ]
    }
   ],
   "source": [
    " # just showing the ouput of test_result\n",
    "print(\" The Values given as output by adfuller is : \\n 'ADF Test Statistic','p-value','#Lags Used','Number of Observations Used'\\n\\n\",test_result)"
   ]
  },
  {
   "cell_type": "code",
   "execution_count": 64,
   "metadata": {},
   "outputs": [],
   "source": [
    "#Ho: It is non stationary\n",
    "#H1: It is stationary\n",
    "\n",
    "def adfuller_test(df):\n",
    "    result=adfuller(df) # same as above ,variable name changed\n",
    "    labels = ['ADF Test Statistic','p-value','#Lags Used','Number of Observations Used']\n",
    "    for value,label in zip(result,labels):\n",
    "        print(label+' : '+str(value) )\n",
    "    if result[1] <= 0.05:\n",
    "        print(\"strong evidence against the null hypothesis(Ho), reject the null hypothesis. Data  is stationary\")\n",
    "    else:\n",
    "        print(\"weak evidence against null hypothesis, time series is non-stationary \")\n",
    "    "
   ]
  },
  {
   "cell_type": "code",
   "execution_count": 66,
   "metadata": {},
   "outputs": [
    {
     "name": "stdout",
     "output_type": "stream",
     "text": [
      "ADF Test Statistic : -12.473386265908326\n",
      "p-value : 3.207774293088594e-23\n",
      "#Lags Used : 12\n",
      "Number of Observations Used : 1971\n",
      "strong evidence against the null hypothesis(Ho), reject the null hypothesis. Data  is stationary\n"
     ]
    }
   ],
   "source": [
    "adfuller_test(df['Comp Stock'])"
   ]
  },
  {
   "cell_type": "code",
   "execution_count": 67,
   "metadata": {},
   "outputs": [
    {
     "name": "stdout",
     "output_type": "stream",
     "text": [
      "ADF Test Statistic : -44.84814456404393\n",
      "p-value : 0.0\n",
      "#Lags Used : 0\n",
      "Number of Observations Used : 1983\n",
      "strong evidence against the null hypothesis(Ho), reject the null hypothesis. Data  is stationary\n"
     ]
    }
   ],
   "source": [
    "adfuller_test(df['Other sharesInvestments'])"
   ]
  },
  {
   "cell_type": "code",
   "execution_count": 68,
   "metadata": {},
   "outputs": [
    {
     "name": "stdout",
     "output_type": "stream",
     "text": [
      "ADF Test Statistic : -15.906853851669037\n",
      "p-value : 8.208405770369246e-29\n",
      "#Lags Used : 7\n",
      "Number of Observations Used : 1976\n",
      "strong evidence against the null hypothesis(Ho), reject the null hypothesis. Data  is stationary\n"
     ]
    }
   ],
   "source": [
    "adfuller_test(df['Gold Investments'])"
   ]
  },
  {
   "cell_type": "code",
   "execution_count": 69,
   "metadata": {},
   "outputs": [
    {
     "name": "stdout",
     "output_type": "stream",
     "text": [
      "ADF Test Statistic : -45.94216292983993\n",
      "p-value : 0.0\n",
      "#Lags Used : 0\n",
      "Number of Observations Used : 1983\n",
      "strong evidence against the null hypothesis(Ho), reject the null hypothesis. Data  is stationary\n"
     ]
    }
   ],
   "source": [
    "adfuller_test(df['Oil Investments'])"
   ]
  },
  {
   "cell_type": "code",
   "execution_count": 70,
   "metadata": {},
   "outputs": [
    {
     "data": {
      "text/plain": [
       "<matplotlib.axes._subplots.AxesSubplot at 0x9b65fd3e88>"
      ]
     },
     "execution_count": 70,
     "metadata": {},
     "output_type": "execute_result"
    },
    {
     "data": {
      "image/png": "[encoded data removed]",
      "text/plain": [
       "<Figure size 432x288 with 1 Axes>"
      ]
     },
     "metadata": {
      "needs_background": "light"
     },
     "output_type": "display_data"
    }
   ],
   "source": [
    "df['Oil Investments'].plot()"
   ]
  },
  {
   "cell_type": "code",
   "execution_count": 73,
   "metadata": {},
   "outputs": [
    {
     "data": {
      "image/png": "[encoded data removed]",
      "text/plain": [
       "<Figure size 432x288 with 1 Axes>"
      ]
     },
     "metadata": {
      "needs_background": "light"
     },
     "output_type": "display_data"
    }
   ],
   "source": [
    "from pandas.plotting import autocorrelation_plot\n",
    "autocorrelation_plot(df['Gold Investments'])\n",
    "plt.show()"
   ]
  },
  {
   "cell_type": "code",
   "execution_count": 74,
   "metadata": {},
   "outputs": [],
   "source": [
    "from statsmodels.graphics.tsaplots import plot_acf,plot_pacf\n",
    "import statsmodels.api as sm"
   ]
  },
  {
   "cell_type": "code",
   "execution_count": 75,
   "metadata": {},
   "outputs": [
    {
     "data": {
      "image/png": "[encoded data removed]",
      "text/plain": [
       "<Figure size 864x576 with 2 Axes>"
      ]
     },
     "metadata": {
      "needs_background": "light"
     },
     "output_type": "display_data"
    }
   ],
   "source": [
    "fig = plt.figure(figsize=(12,8))\n",
    "ax1 = fig.add_subplot(211)\n",
    "fig = sm.graphics.tsa.plot_acf(df['Comp Stock'],lags=40,ax=ax1)\n",
    "ax2 = fig.add_subplot(212)\n",
    "fig = sm.graphics.tsa.plot_pacf(df['Comp Stock'],lags=40,ax=ax2)"
   ]
  },
  {
   "cell_type": "code",
   "execution_count": 76,
   "metadata": {},
   "outputs": [],
   "source": [
    "# For non-seasonal data\n",
    "#p=1, d=1, q=0 or 1\n",
    "# Usually in seasonal data we avoid arima ,just showing u how to impliment\n",
    "from statsmodels.tsa.arima_model import ARIMA"
   ]
  },
  {
   "cell_type": "code",
   "execution_count": 77,
   "metadata": {},
   "outputs": [
    {
     "name": "stderr",
     "output_type": "stream",
     "text": [
      "C:\\Users\\Ruchi\\anaconda3\\lib\\site-packages\\statsmodels\\tsa\\base\\tsa_model.py:218: ValueWarning: A date index has been provided, but it has no associated frequency information and so will be ignored when e.g. forecasting.\n",
      "  ' ignored when e.g. forecasting.', ValueWarning)\n",
      "C:\\Users\\Ruchi\\anaconda3\\lib\\site-packages\\statsmodels\\tsa\\base\\tsa_model.py:222: ValueWarning: A date index has been provided, but it is not monotonic and so will be ignored when e.g. forecasting.\n",
      "  ' forecasting.', ValueWarning)\n",
      "C:\\Users\\Ruchi\\anaconda3\\lib\\site-packages\\statsmodels\\tsa\\base\\tsa_model.py:218: ValueWarning: A date index has been provided, but it has no associated frequency information and so will be ignored when e.g. forecasting.\n",
      "  ' ignored when e.g. forecasting.', ValueWarning)\n",
      "C:\\Users\\Ruchi\\anaconda3\\lib\\site-packages\\statsmodels\\tsa\\base\\tsa_model.py:222: ValueWarning: A date index has been provided, but it is not monotonic and so will be ignored when e.g. forecasting.\n",
      "  ' forecasting.', ValueWarning)\n"
     ]
    }
   ],
   "source": [
    "model=ARIMA(df['Comp Stock'],order=(1,1,1)) # this order is p d q(0 or 1) \n",
    "model_fit=model.fit()"
   ]
  },
  {
   "cell_type": "code",
   "execution_count": 78,
   "metadata": {},
   "outputs": [
    {
     "data": {
      "text/html": [
       "<table class=\"simpletable\">\n",
       "<caption>ARIMA Model Results</caption>\n",
       "<tr>\n",
       "  <th>Dep. Variable:</th>   <td>D.Comp Stock</td>   <th>  No. Observations:  </th>    <td>1983</td>   \n",
       "</tr>\n",
       "<tr>\n",
       "  <th>Model:</th>          <td>ARIMA(1, 1, 1)</td>  <th>  Log Likelihood     </th>  <td>5373.983</td> \n",
       "</tr>\n",
       "<tr>\n",
       "  <th>Method:</th>             <td>css-mle</td>     <th>  S.D. of innovations</th>    <td>0.016</td>  \n",
       "</tr>\n",
       "<tr>\n",
       "  <th>Date:</th>          <td>Mon, 19 Oct 2020</td> <th>  AIC                </th> <td>-10739.966</td>\n",
       "</tr>\n",
       "<tr>\n",
       "  <th>Time:</th>              <td>13:09:17</td>     <th>  BIC                </th> <td>-10717.597</td>\n",
       "</tr>\n",
       "<tr>\n",
       "  <th>Sample:</th>                <td>1</td>        <th>  HQIC               </th> <td>-10731.749</td>\n",
       "</tr>\n",
       "<tr>\n",
       "  <th></th>                       <td> </td>        <th>                     </th>      <td> </td>    \n",
       "</tr>\n",
       "</table>\n",
       "<table class=\"simpletable\">\n",
       "<tr>\n",
       "           <td></td>             <th>coef</th>     <th>std err</th>      <th>z</th>      <th>P>|z|</th>  <th>[0.025</th>    <th>0.975]</th>  \n",
       "</tr>\n",
       "<tr>\n",
       "  <th>const</th>              <td>-9.078e-08</td> <td>  6.5e-06</td> <td>   -0.014</td> <td> 0.989</td> <td>-1.28e-05</td> <td> 1.26e-05</td>\n",
       "</tr>\n",
       "<tr>\n",
       "  <th>ar.L1.D.Comp Stock</th> <td>    0.0284</td> <td>    0.023</td> <td>    1.217</td> <td> 0.224</td> <td>   -0.017</td> <td>    0.074</td>\n",
       "</tr>\n",
       "<tr>\n",
       "  <th>ma.L1.D.Comp Stock</th> <td>   -0.9831</td> <td>    0.013</td> <td>  -73.359</td> <td> 0.000</td> <td>   -1.009</td> <td>   -0.957</td>\n",
       "</tr>\n",
       "</table>\n",
       "<table class=\"simpletable\">\n",
       "<caption>Roots</caption>\n",
       "<tr>\n",
       "    <td></td>   <th>            Real</th>  <th>         Imaginary</th> <th>         Modulus</th>  <th>        Frequency</th>\n",
       "</tr>\n",
       "<tr>\n",
       "  <th>AR.1</th> <td>          35.2594</td> <td>          +0.0000j</td> <td>          35.2594</td> <td>           0.0000</td>\n",
       "</tr>\n",
       "<tr>\n",
       "  <th>MA.1</th> <td>           1.0172</td> <td>          +0.0000j</td> <td>           1.0172</td> <td>           0.0000</td>\n",
       "</tr>\n",
       "</table>"
      ],
      "text/plain": [
       "<class 'statsmodels.iolib.summary.Summary'>\n",
       "\"\"\"\n",
       "                             ARIMA Model Results                              \n",
       "==============================================================================\n",
       "Dep. Variable:           D.Comp Stock   No. Observations:                 1983\n",
       "Model:                 ARIMA(1, 1, 1)   Log Likelihood                5373.983\n",
       "Method:                       css-mle   S.D. of innovations              0.016\n",
       "Date:                Mon, 19 Oct 2020   AIC                         -10739.966\n",
       "Time:                        13:09:17   BIC                         -10717.597\n",
       "Sample:                             1   HQIC                        -10731.749\n",
       "                                                                              \n",
       "======================================================================================\n",
       "                         coef    std err          z      P>|z|      [0.025      0.975]\n",
       "--------------------------------------------------------------------------------------\n",
       "const              -9.078e-08    6.5e-06     -0.014      0.989   -1.28e-05    1.26e-05\n",
       "ar.L1.D.Comp Stock     0.0284      0.023      1.217      0.224      -0.017       0.074\n",
       "ma.L1.D.Comp Stock    -0.9831      0.013    -73.359      0.000      -1.009      -0.957\n",
       "                                    Roots                                    \n",
       "=============================================================================\n",
       "                  Real          Imaginary           Modulus         Frequency\n",
       "-----------------------------------------------------------------------------\n",
       "AR.1           35.2594           +0.0000j           35.2594            0.0000\n",
       "MA.1            1.0172           +0.0000j            1.0172            0.0000\n",
       "-----------------------------------------------------------------------------\n",
       "\"\"\""
      ]
     },
     "execution_count": 78,
     "metadata": {},
     "output_type": "execute_result"
    }
   ],
   "source": [
    "model_fit.summary()"
   ]
  },
  {
   "cell_type": "code",
   "execution_count": 80,
   "metadata": {},
   "outputs": [
    {
     "data": {
      "text/plain": [
       "<matplotlib.axes._subplots.AxesSubplot at 0x9b727477c8>"
      ]
     },
     "execution_count": 80,
     "metadata": {},
     "output_type": "execute_result"
    },
    {
     "data": {
      "image/png": "[encoded data removed]",
      "text/plain": [
       "<Figure size 864x576 with 1 Axes>"
      ]
     },
     "metadata": {
      "needs_background": "light"
     },
     "output_type": "display_data"
    }
   ],
   "source": [
    "df['forecast']=model_fit.predict(start=1950,end=1983,dynamic=True)\n",
    "df[['Comp Stock','forecast']].plot(figsize=(12,8))"
   ]
  },
  {
   "cell_type": "code",
   "execution_count": 86,
   "metadata": {},
   "outputs": [],
   "source": [
    "#creating some data to predict future of this.\n",
    "from pandas.tseries.offsets import DateOffset\n",
    "future_dates=[df.index[-2]+ DateOffset(months=x)for x in range(0,24)]"
   ]
  },
  {
   "cell_type": "code",
   "execution_count": 83,
   "metadata": {},
   "outputs": [],
   "source": [
    "future_datest_df=pd.DataFrame(index=future_dates[2:],columns=df.columns)"
   ]
  },
  {
   "cell_type": "code",
   "execution_count": 84,
   "metadata": {},
   "outputs": [
    {
     "data": {
      "text/html": [
       "<div>\n",
       "<style scoped>\n",
       "    .dataframe tbody tr th:only-of-type {\n",
       "        vertical-align: middle;\n",
       "    }\n",
       "\n",
       "    .dataframe tbody tr th {\n",
       "        vertical-align: top;\n",
       "    }\n",
       "\n",
       "    .dataframe thead th {\n",
       "        text-align: right;\n",
       "    }\n",
       "</style>\n",
       "<table border=\"1\" class=\"dataframe\">\n",
       "  <thead>\n",
       "    <tr style=\"text-align: right;\">\n",
       "      <th></th>\n",
       "      <th>Oil Investments</th>\n",
       "      <th>Gold Investments</th>\n",
       "      <th>Comp Stock</th>\n",
       "      <th>Other sharesInvestments</th>\n",
       "      <th>forecast</th>\n",
       "    </tr>\n",
       "  </thead>\n",
       "  <tbody>\n",
       "    <tr>\n",
       "      <th>2019-06-14</th>\n",
       "      <td>NaN</td>\n",
       "      <td>NaN</td>\n",
       "      <td>NaN</td>\n",
       "      <td>NaN</td>\n",
       "      <td>NaN</td>\n",
       "    </tr>\n",
       "    <tr>\n",
       "      <th>2019-07-14</th>\n",
       "      <td>NaN</td>\n",
       "      <td>NaN</td>\n",
       "      <td>NaN</td>\n",
       "      <td>NaN</td>\n",
       "      <td>NaN</td>\n",
       "    </tr>\n",
       "    <tr>\n",
       "      <th>2019-08-14</th>\n",
       "      <td>NaN</td>\n",
       "      <td>NaN</td>\n",
       "      <td>NaN</td>\n",
       "      <td>NaN</td>\n",
       "      <td>NaN</td>\n",
       "    </tr>\n",
       "    <tr>\n",
       "      <th>2019-09-14</th>\n",
       "      <td>NaN</td>\n",
       "      <td>NaN</td>\n",
       "      <td>NaN</td>\n",
       "      <td>NaN</td>\n",
       "      <td>NaN</td>\n",
       "    </tr>\n",
       "    <tr>\n",
       "      <th>2019-10-14</th>\n",
       "      <td>NaN</td>\n",
       "      <td>NaN</td>\n",
       "      <td>NaN</td>\n",
       "      <td>NaN</td>\n",
       "      <td>NaN</td>\n",
       "    </tr>\n",
       "  </tbody>\n",
       "</table>\n",
       "</div>"
      ],
      "text/plain": [
       "           Oil Investments Gold Investments Comp Stock  \\\n",
       "2019-06-14             NaN              NaN        NaN   \n",
       "2019-07-14             NaN              NaN        NaN   \n",
       "2019-08-14             NaN              NaN        NaN   \n",
       "2019-09-14             NaN              NaN        NaN   \n",
       "2019-10-14             NaN              NaN        NaN   \n",
       "\n",
       "           Other sharesInvestments forecast  \n",
       "2019-06-14                     NaN      NaN  \n",
       "2019-07-14                     NaN      NaN  \n",
       "2019-08-14                     NaN      NaN  \n",
       "2019-09-14                     NaN      NaN  \n",
       "2019-10-14                     NaN      NaN  "
      ]
     },
     "execution_count": 84,
     "metadata": {},
     "output_type": "execute_result"
    }
   ],
   "source": [
    "future_datest_df.tail()"
   ]
  },
  {
   "cell_type": "code",
   "execution_count": 85,
   "metadata": {},
   "outputs": [],
   "source": [
    "future_df=pd.concat([df,future_datest_df])"
   ]
  },
  {
   "cell_type": "code",
   "execution_count": 88,
   "metadata": {},
   "outputs": [
    {
     "name": "stderr",
     "output_type": "stream",
     "text": [
      "C:\\Users\\Ruchi\\anaconda3\\lib\\site-packages\\statsmodels\\tsa\\base\\tsa_model.py:583: ValueWarning: No supported index is available. Prediction results will be given with an integer index beginning at `start`.\n",
      "  ValueWarning)\n"
     ]
    },
    {
     "data": {
      "text/plain": [
       "<matplotlib.axes._subplots.AxesSubplot at 0x9b65ea6688>"
      ]
     },
     "execution_count": 88,
     "metadata": {},
     "output_type": "execute_result"
    },
    {
     "data": {
      "image/png": "[encoded data removed]",
      "text/plain": [
       "<Figure size 864x576 with 1 Axes>"
      ]
     },
     "metadata": {
      "needs_background": "light"
     },
     "output_type": "display_data"
    }
   ],
   "source": [
    "future_df['forecast'] = results.predict(start = 1983, end = 2010, dynamic= True)  \n",
    "future_df[['Comp Stock', 'forecast']].plot(figsize=(12, 8)) "
   ]
  },
  {
   "cell_type": "code",
   "execution_count": null,
   "metadata": {},
   "outputs": [],
   "source": []
  }
 ],
 "metadata": {
  "kernelspec": {
   "display_name": "Python 3",
   "language": "python",
   "name": "python3"
  },
  "language_info": {
   "codemirror_mode": {
    "name": "ipython",
    "version": 3
   },
   "file_extension": ".py",
   "mimetype": "text/x-python",
   "name": "python",
   "nbconvert_exporter": "python",
   "pygments_lexer": "ipython3",
   "version": "3.7.6"
  }
 },
 "nbformat": 4,
 "nbformat_minor": 4
}
